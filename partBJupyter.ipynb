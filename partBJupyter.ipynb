{
 "cells": [
  {
   "cell_type": "code",
   "execution_count": 2,
   "metadata": {},
   "outputs": [],
   "source": [
    "import os\n",
    "from Bio import SeqIO, Seq\n",
    "import pandas as pd"
   ]
  },
  {
   "cell_type": "code",
   "execution_count": 3,
   "metadata": {},
   "outputs": [
    {
     "name": "stderr",
     "output_type": "stream",
     "text": [
      "C:\\ProgramData\\Anaconda3\\lib\\site-packages\\openpyxl\\styles\\stylesheet.py:226: UserWarning: Workbook contains no default style, apply openpyxl's default\n",
      "  warn(\"Workbook contains no default style, apply openpyxl's default\")\n"
     ]
    }
   ],
   "source": [
    "# read the xlsx file and create DataFrame\n",
    "uni_file = 'uniprot-filtered-organism__Bacillus+subtilis+(strain+168)+[224308]%2--.xlsx'\n",
    "assert(os.path.exists(uni_file)) #  sanity check\n",
    "df_prot = pd.read_excel(uni_file)"
   ]
  },
  {
   "cell_type": "code",
   "execution_count": 4,
   "metadata": {},
   "outputs": [
    {
     "name": "stdout",
     "output_type": "stream",
     "text": [
      "df:\n",
      "     Entry  Entry name    Status  \\\n",
      "0  P94485  YNAG_BACSU  reviewed   \n",
      "1  O32014  YQZH_BACSU  reviewed   \n",
      "2  O34838  YOPW_BACSU  reviewed   \n",
      "3  O34460  YTRI_BACSU  reviewed   \n",
      "4  O34702  YOTC_BACSU  reviewed   \n",
      "\n",
      "                                       Protein names          Gene names  \\\n",
      "0                       Uncharacterized protein YnaG       ynaG BSU17550   \n",
      "1                       Uncharacterized protein YqzH       yqzH BSU23720   \n",
      "2  SPbeta prophage-derived uncharacterized protei...       yopW BSU20740   \n",
      "3                  Sporulation membrane protein YtrI       ytrI BSU29240   \n",
      "4  SPbeta prophage-derived uncharacterized protei...  yotC yokC BSU19930   \n",
      "\n",
      "                         Organism  Length  \\\n",
      "0  Bacillus subtilis (strain 168)    91.0   \n",
      "1  Bacillus subtilis (strain 168)    68.0   \n",
      "2  Bacillus subtilis (strain 168)   111.0   \n",
      "3  Bacillus subtilis (strain 168)   167.0   \n",
      "4  Bacillus subtilis (strain 168)    63.0   \n",
      "\n",
      "                                       Transmembrane  \\\n",
      "0  TRANSMEM 6..26;  /note=\"Helical\";  /evidence=\"...   \n",
      "1                                                NaN   \n",
      "2                                                NaN   \n",
      "3  TRANSMEM 15..35;  /note=\"Helical\";  /evidence=...   \n",
      "4                                                NaN   \n",
      "\n",
      "                                            Sequence  \n",
      "0  MNVKKAAAVFSITIPIISAILIINFFTGFMSIPWQGMPVFFPLLLS...  \n",
      "1  MEKFVEKMLGQALRQYGRNVAIDPLSPYEKQSLKAALQERRNEEPD...  \n",
      "2  MELSLDELKLCLKPLVFFGELKLEISDYEEGKKIEVLDHDEGSLIN...  \n",
      "3  MRVPQHYKKPGWQRFFAGMMCGAVISWFFFLFTYGTFQEEQVSLIE...  \n",
      "4  MENEVVFFCRKCNHHLFAKNPMINTLKVISEMDCPNCGEEGYHNWI...  \n"
     ]
    }
   ],
   "source": [
    "# print the DF head\n",
    "print('df:\\n', df_prot.head())"
   ]
  },
  {
   "cell_type": "code",
   "execution_count": 5,
   "metadata": {},
   "outputs": [
    {
     "name": "stdout",
     "output_type": "stream",
     "text": [
      "ynaG\n"
     ]
    }
   ],
   "source": [
    "# find all the protiens' gene name\n",
    "prot_names = [x.split(\" \")[0] for x in df_prot['Gene names'].apply(str)]\n",
    "print(prot_names[0])"
   ]
  },
  {
   "cell_type": "code",
   "execution_count": 95,
   "metadata": {},
   "outputs": [
    {
     "name": "stdout",
     "output_type": "stream",
     "text": [
      "<class 'list'>\n",
      "9074\n"
     ]
    }
   ],
   "source": [
    "## read file and import details\n",
    "gene_bank_file = 'BS168.gb'\n",
    " # making sure that the path is valid\n",
    "assert(os.path.exists(gene_bank_file))\n",
    "\n",
    "with open(gene_bank_file, \"r\") as input_handle:\n",
    "    record_gb = SeqIO.read(input_handle, \"genbank\")\n",
    "\n",
    "features = record_gb.features\n",
    "print(type(features))\n",
    "\n",
    "print(len(features))"
   ]
  },
  {
   "cell_type": "code",
   "execution_count": 140,
   "metadata": {},
   "outputs": [
    {
     "ename": "TypeError",
     "evalue": "'NoneType' object is not subscriptable",
     "output_type": "error",
     "traceback": [
      "\u001b[1;31m---------------------------------------------------------------------------\u001b[0m",
      "\u001b[1;31mTypeError\u001b[0m                                 Traceback (most recent call last)",
      "\u001b[1;32m~\\AppData\\Local\\Temp/ipykernel_48908/2472348655.py\u001b[0m in \u001b[0;36m<module>\u001b[1;34m\u001b[0m\n\u001b[0;32m      1\u001b[0m \u001b[1;31m# find all CDS in GeneBank file\u001b[0m\u001b[1;33m\u001b[0m\u001b[1;33m\u001b[0m\u001b[0m\n\u001b[1;32m----> 2\u001b[1;33m \u001b[0mfeatures_prot\u001b[0m \u001b[1;33m=\u001b[0m \u001b[1;33m[\u001b[0m\u001b[0mi\u001b[0m\u001b[1;33m.\u001b[0m\u001b[0mqualifiers\u001b[0m\u001b[1;33m.\u001b[0m\u001b[0mget\u001b[0m\u001b[1;33m(\u001b[0m\u001b[1;34m'gene'\u001b[0m\u001b[1;33m)\u001b[0m\u001b[1;33m[\u001b[0m\u001b[1;36m0\u001b[0m\u001b[1;33m]\u001b[0m \u001b[1;32mfor\u001b[0m \u001b[0mi\u001b[0m \u001b[1;32min\u001b[0m \u001b[0mfeatures\u001b[0m \u001b[1;32mif\u001b[0m \u001b[0mi\u001b[0m\u001b[1;33m.\u001b[0m\u001b[0mtype\u001b[0m \u001b[1;33m==\u001b[0m \u001b[1;34m'CDS'\u001b[0m\u001b[1;33m]\u001b[0m\u001b[1;33m\u001b[0m\u001b[1;33m\u001b[0m\u001b[0m\n\u001b[0m\u001b[0;32m      3\u001b[0m \u001b[1;31m# f_prot = [i[0] for i in features_prot]\u001b[0m\u001b[1;33m\u001b[0m\u001b[1;33m\u001b[0m\u001b[0m\n\u001b[0;32m      4\u001b[0m \u001b[1;31m# # f_prot = []\u001b[0m\u001b[1;33m\u001b[0m\u001b[1;33m\u001b[0m\u001b[0m\n\u001b[0;32m      5\u001b[0m \u001b[1;31m# # for i in range(len(features_prot)):\u001b[0m\u001b[1;33m\u001b[0m\u001b[1;33m\u001b[0m\u001b[0m\n",
      "\u001b[1;32m~\\AppData\\Local\\Temp/ipykernel_48908/2472348655.py\u001b[0m in \u001b[0;36m<listcomp>\u001b[1;34m(.0)\u001b[0m\n\u001b[0;32m      1\u001b[0m \u001b[1;31m# find all CDS in GeneBank file\u001b[0m\u001b[1;33m\u001b[0m\u001b[1;33m\u001b[0m\u001b[0m\n\u001b[1;32m----> 2\u001b[1;33m \u001b[0mfeatures_prot\u001b[0m \u001b[1;33m=\u001b[0m \u001b[1;33m[\u001b[0m\u001b[0mi\u001b[0m\u001b[1;33m.\u001b[0m\u001b[0mqualifiers\u001b[0m\u001b[1;33m.\u001b[0m\u001b[0mget\u001b[0m\u001b[1;33m(\u001b[0m\u001b[1;34m'gene'\u001b[0m\u001b[1;33m)\u001b[0m\u001b[1;33m[\u001b[0m\u001b[1;36m0\u001b[0m\u001b[1;33m]\u001b[0m \u001b[1;32mfor\u001b[0m \u001b[0mi\u001b[0m \u001b[1;32min\u001b[0m \u001b[0mfeatures\u001b[0m \u001b[1;32mif\u001b[0m \u001b[0mi\u001b[0m\u001b[1;33m.\u001b[0m\u001b[0mtype\u001b[0m \u001b[1;33m==\u001b[0m \u001b[1;34m'CDS'\u001b[0m\u001b[1;33m]\u001b[0m\u001b[1;33m\u001b[0m\u001b[1;33m\u001b[0m\u001b[0m\n\u001b[0m\u001b[0;32m      3\u001b[0m \u001b[1;31m# f_prot = [i[0] for i in features_prot]\u001b[0m\u001b[1;33m\u001b[0m\u001b[1;33m\u001b[0m\u001b[0m\n\u001b[0;32m      4\u001b[0m \u001b[1;31m# # f_prot = []\u001b[0m\u001b[1;33m\u001b[0m\u001b[1;33m\u001b[0m\u001b[0m\n\u001b[0;32m      5\u001b[0m \u001b[1;31m# # for i in range(len(features_prot)):\u001b[0m\u001b[1;33m\u001b[0m\u001b[1;33m\u001b[0m\u001b[0m\n",
      "\u001b[1;31mTypeError\u001b[0m: 'NoneType' object is not subscriptable"
     ]
    }
   ],
   "source": [
    "# find all CDS in GeneBank file\n",
    "features_prot = [i.qualifiers.get('gene')[0] for i in features if i.type == 'CDS']\n",
    "# f_prot = [i[0] for i in features_prot]\n",
    "# # f_prot = []\n",
    "# # for i in range(len(features_prot)):\n",
    "# #     f_prot.append(features_prot[i][0])\n",
    "\n",
    "print(features_prot[0])\n",
    "# print(len(features_prot))\n",
    "# print(type(features_prot))\n",
    "# print(f_prot[0])\n",
    "\n",
    "# print(features[2])\n",
    "\n",
    "\n",
    "\n"
   ]
  },
  {
   "cell_type": "code",
   "execution_count": 17,
   "metadata": {},
   "outputs": [
    {
     "name": "stdout",
     "output_type": "stream",
     "text": [
      "0 4237 6939\n"
     ]
    }
   ],
   "source": [
    "# compare lists\n",
    "\n",
    "same_prot = set(features_prot).intersection(set(prot_names))\n",
    "gb_only = set(features_prot).difference(set(prot_names))\n",
    "uni_only = set(prot_names).difference(set(features_prot))\n",
    "\n",
    "print(len(same_prot), len(gb_only), len(uni_only))\n",
    "\n"
   ]
  }
 ],
 "metadata": {
  "interpreter": {
   "hash": "bbe9b39007236c3750cc6f2befddcbd5909f231df41ca6daddda0a72f0a98581"
  },
  "kernelspec": {
   "display_name": "Python 3.10.1 64-bit",
   "language": "python",
   "name": "python3"
  },
  "language_info": {
   "codemirror_mode": {
    "name": "ipython",
    "version": 3
   },
   "file_extension": ".py",
   "mimetype": "text/x-python",
   "name": "python",
   "nbconvert_exporter": "python",
   "pygments_lexer": "ipython3",
   "version": "3.9.7"
  },
  "orig_nbformat": 4
 },
 "nbformat": 4,
 "nbformat_minor": 2
}
