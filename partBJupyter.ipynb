{
 "cells": [
  {
   "cell_type": "code",
   "execution_count": 2,
   "metadata": {},
   "outputs": [],
   "source": [
    "import os\n",
    "from Bio import SeqIO, Seq\n",
    "import pandas as pd"
   ]
  },
  {
   "cell_type": "code",
   "execution_count": 71,
   "metadata": {},
   "outputs": [
    {
     "name": "stderr",
     "output_type": "stream",
     "text": [
      "C:\\ProgramData\\Anaconda3\\lib\\site-packages\\openpyxl\\styles\\stylesheet.py:226: UserWarning: Workbook contains no default style, apply openpyxl's default\n",
      "  warn(\"Workbook contains no default style, apply openpyxl's default\")\n"
     ]
    }
   ],
   "source": [
    "# read the xlsx file and create DataFrame\n",
    "uni_file = 'uniprot-filtered-organism__Bacillus+subtilis+(strain+168)+[224308]%2--.xlsx'\n",
    "assert(os.path.exists(uni_file)) #  sanity check\n",
    "df_prot = pd.read_excel(uni_file)"
   ]
  },
  {
   "cell_type": "code",
   "execution_count": 36,
   "metadata": {},
   "outputs": [
    {
     "data": {
      "text/html": [
       "<div>\n",
       "<style scoped>\n",
       "    .dataframe tbody tr th:only-of-type {\n",
       "        vertical-align: middle;\n",
       "    }\n",
       "\n",
       "    .dataframe tbody tr th {\n",
       "        vertical-align: top;\n",
       "    }\n",
       "\n",
       "    .dataframe thead th {\n",
       "        text-align: right;\n",
       "    }\n",
       "</style>\n",
       "<table border=\"1\" class=\"dataframe\">\n",
       "  <thead>\n",
       "    <tr style=\"text-align: right;\">\n",
       "      <th></th>\n",
       "      <th>Entry</th>\n",
       "      <th>Entry name</th>\n",
       "      <th>Status</th>\n",
       "      <th>Protein names</th>\n",
       "      <th>Gene names</th>\n",
       "      <th>Organism</th>\n",
       "      <th>Length</th>\n",
       "      <th>Transmembrane</th>\n",
       "      <th>Sequence</th>\n",
       "      <th>Gene names  (primary )</th>\n",
       "    </tr>\n",
       "  </thead>\n",
       "  <tbody>\n",
       "    <tr>\n",
       "      <th>0</th>\n",
       "      <td>P94485</td>\n",
       "      <td>YNAG_BACSU</td>\n",
       "      <td>reviewed</td>\n",
       "      <td>Uncharacterized protein YnaG</td>\n",
       "      <td>ynaG BSU17550</td>\n",
       "      <td>Bacillus subtilis (strain 168)</td>\n",
       "      <td>91.0</td>\n",
       "      <td>TRANSMEM 6..26;  /note=\"Helical\";  /evidence=\"...</td>\n",
       "      <td>MNVKKAAAVFSITIPIISAILIINFFTGFMSIPWQGMPVFFPLLLS...</td>\n",
       "      <td>ynaG</td>\n",
       "    </tr>\n",
       "    <tr>\n",
       "      <th>1</th>\n",
       "      <td>O32014</td>\n",
       "      <td>YQZH_BACSU</td>\n",
       "      <td>reviewed</td>\n",
       "      <td>Uncharacterized protein YqzH</td>\n",
       "      <td>yqzH BSU23720</td>\n",
       "      <td>Bacillus subtilis (strain 168)</td>\n",
       "      <td>68.0</td>\n",
       "      <td>NaN</td>\n",
       "      <td>MEKFVEKMLGQALRQYGRNVAIDPLSPYEKQSLKAALQERRNEEPD...</td>\n",
       "      <td>yqzH</td>\n",
       "    </tr>\n",
       "    <tr>\n",
       "      <th>2</th>\n",
       "      <td>O34838</td>\n",
       "      <td>YOPW_BACSU</td>\n",
       "      <td>reviewed</td>\n",
       "      <td>SPbeta prophage-derived uncharacterized protei...</td>\n",
       "      <td>yopW BSU20740</td>\n",
       "      <td>Bacillus subtilis (strain 168)</td>\n",
       "      <td>111.0</td>\n",
       "      <td>NaN</td>\n",
       "      <td>MELSLDELKLCLKPLVFFGELKLEISDYEEGKKIEVLDHDEGSLIN...</td>\n",
       "      <td>yopW</td>\n",
       "    </tr>\n",
       "    <tr>\n",
       "      <th>3</th>\n",
       "      <td>O34460</td>\n",
       "      <td>YTRI_BACSU</td>\n",
       "      <td>reviewed</td>\n",
       "      <td>Sporulation membrane protein YtrI</td>\n",
       "      <td>ytrI BSU29240</td>\n",
       "      <td>Bacillus subtilis (strain 168)</td>\n",
       "      <td>167.0</td>\n",
       "      <td>TRANSMEM 15..35;  /note=\"Helical\";  /evidence=...</td>\n",
       "      <td>MRVPQHYKKPGWQRFFAGMMCGAVISWFFFLFTYGTFQEEQVSLIE...</td>\n",
       "      <td>ytrI</td>\n",
       "    </tr>\n",
       "    <tr>\n",
       "      <th>4</th>\n",
       "      <td>O34702</td>\n",
       "      <td>YOTC_BACSU</td>\n",
       "      <td>reviewed</td>\n",
       "      <td>SPbeta prophage-derived uncharacterized protei...</td>\n",
       "      <td>yotC yokC BSU19930</td>\n",
       "      <td>Bacillus subtilis (strain 168)</td>\n",
       "      <td>63.0</td>\n",
       "      <td>NaN</td>\n",
       "      <td>MENEVVFFCRKCNHHLFAKNPMINTLKVISEMDCPNCGEEGYHNWI...</td>\n",
       "      <td>yotC</td>\n",
       "    </tr>\n",
       "  </tbody>\n",
       "</table>\n",
       "</div>"
      ],
      "text/plain": [
       "    Entry  Entry name    Status  \\\n",
       "0  P94485  YNAG_BACSU  reviewed   \n",
       "1  O32014  YQZH_BACSU  reviewed   \n",
       "2  O34838  YOPW_BACSU  reviewed   \n",
       "3  O34460  YTRI_BACSU  reviewed   \n",
       "4  O34702  YOTC_BACSU  reviewed   \n",
       "\n",
       "                                       Protein names          Gene names  \\\n",
       "0                       Uncharacterized protein YnaG       ynaG BSU17550   \n",
       "1                       Uncharacterized protein YqzH       yqzH BSU23720   \n",
       "2  SPbeta prophage-derived uncharacterized protei...       yopW BSU20740   \n",
       "3                  Sporulation membrane protein YtrI       ytrI BSU29240   \n",
       "4  SPbeta prophage-derived uncharacterized protei...  yotC yokC BSU19930   \n",
       "\n",
       "                         Organism  Length  \\\n",
       "0  Bacillus subtilis (strain 168)    91.0   \n",
       "1  Bacillus subtilis (strain 168)    68.0   \n",
       "2  Bacillus subtilis (strain 168)   111.0   \n",
       "3  Bacillus subtilis (strain 168)   167.0   \n",
       "4  Bacillus subtilis (strain 168)    63.0   \n",
       "\n",
       "                                       Transmembrane  \\\n",
       "0  TRANSMEM 6..26;  /note=\"Helical\";  /evidence=\"...   \n",
       "1                                                NaN   \n",
       "2                                                NaN   \n",
       "3  TRANSMEM 15..35;  /note=\"Helical\";  /evidence=...   \n",
       "4                                                NaN   \n",
       "\n",
       "                                            Sequence Gene names  (primary )  \n",
       "0  MNVKKAAAVFSITIPIISAILIINFFTGFMSIPWQGMPVFFPLLLS...                   ynaG  \n",
       "1  MEKFVEKMLGQALRQYGRNVAIDPLSPYEKQSLKAALQERRNEEPD...                   yqzH  \n",
       "2  MELSLDELKLCLKPLVFFGELKLEISDYEEGKKIEVLDHDEGSLIN...                   yopW  \n",
       "3  MRVPQHYKKPGWQRFFAGMMCGAVISWFFFLFTYGTFQEEQVSLIE...                   ytrI  \n",
       "4  MENEVVFFCRKCNHHLFAKNPMINTLKVISEMDCPNCGEEGYHNWI...                   yotC  "
      ]
     },
     "execution_count": 36,
     "metadata": {},
     "output_type": "execute_result"
    }
   ],
   "source": [
    "# print the DF head\n",
    "df_prot.head()"
   ]
  },
  {
   "cell_type": "code",
   "execution_count": 72,
   "metadata": {},
   "outputs": [
    {
     "name": "stdout",
     "output_type": "stream",
     "text": [
      "6085\n"
     ]
    }
   ],
   "source": [
    "# # find all the protiens' gene name\n",
    "# prot_names = [x.split(\" \")[0] for x in df_prot['Gene names'].apply(str)]\n",
    "# print(prot_names[0:5])\n",
    "# df_prot.drop(columns= ,inplace=True)\n",
    "uni_prot = df_prot['Gene names  (primary )']\n",
    "uni_prot = uni_prot.dropna()\n",
    "\n",
    "prot_names = list(uni_prot)\n",
    "\n",
    "print(len(prot_names))"
   ]
  },
  {
   "cell_type": "code",
   "execution_count": null,
   "metadata": {},
   "outputs": [],
   "source": [
    "# df_prot['pos'] = df_prot['Gene names'].str.find(' ')\n",
    "# df_prot['names'] = df_prot.apply(lambda x: x['Gene names'][0:df_prot['pos']] if x['Gene names'] != \"\" else None ,axis=1)\n",
    "# del df_prot['pos'] \n",
    "# df_prot"
   ]
  },
  {
   "cell_type": "code",
   "execution_count": 20,
   "metadata": {},
   "outputs": [
    {
     "name": "stdout",
     "output_type": "stream",
     "text": [
      "<class 'list'>\n",
      "type: CDS\n",
      "location: [409:1750](+)\n",
      "qualifiers:\n",
      "    Key: codon_start, Value: ['1']\n",
      "    Key: db_xref, Value: ['EnsemblGenomes-Gn:BSU00010', 'EnsemblGenomes-Tr:CAB11777', 'GOA:P05648', 'InterPro:IPR001957', 'InterPro:IPR003593', 'InterPro:IPR010921', 'InterPro:IPR013159', 'InterPro:IPR013317', 'InterPro:IPR018312', 'InterPro:IPR020591', 'InterPro:IPR024633', 'InterPro:IPR027417', 'PDB:4TPS', 'SubtiList:BG10065', 'UniProtKB/Swiss-Prot:P05648', 'GeneID:939978']\n",
      "    Key: experiment, Value: ['publication(s) with functional evidences, PMID:2167836, 2846289, 12682299, 16120674, 1779750, 28166228']\n",
      "    Key: function, Value: ['16.9: Replicate']\n",
      "    Key: gene, Value: ['dnaA']\n",
      "    Key: locus_tag, Value: ['BSU_00010']\n",
      "    Key: note, Value: ['Evidence 1a: Function from experimental evidences in the studied strain; PubMedId: 2167836, 2846289, 12682299, 16120674, 1779750, 28166228; Product type f : factor']\n",
      "    Key: old_locus_tag, Value: ['BSU00010']\n",
      "    Key: product, Value: ['chromosomal replication initiator informational ATPase']\n",
      "    Key: protein_id, Value: ['NP_387882.1']\n",
      "    Key: transl_table, Value: ['11']\n",
      "    Key: translation, Value: ['MENILDLWNQALAQIEKKLSKPSFETWMKSTKAHSLQGDTLTITAPNEFARDWLESRYLHLIADTIYELTGEELSIKFVIPQNQDVEDFMPKPQVKKAVKEDTSDFPQNMLNPKYTFDTFVIGSGNRFAHAASLAVAEAPAKAYNPLFIYGGVGLGKTHLMHAIGHYVIDHNPSAKVVYLSSEKFTNEFINSIRDNKAVDFRNRYRNVDVLLIDDIQFLAGKEQTQEEFFHTFNTLHEESKQIVISSDRPPKEIPTLEDRLRSRFEWGLITDITPPDLETRIAILRKKAKAEGLDIPNEVMLYIANQIDSNIRELEGALIRVVAYSSLINKDINADLAAEALKDIIPSSKPKVITIKEIQRVVGQQFNIKLEDFKAKKRTKSVAFPRQIAMYLSREMTDSSLPKIGEEFGGRDHTTVIHAHEKISKLLADDEQLQQHVKEIKEQLK']\n",
      "\n"
     ]
    }
   ],
   "source": [
    "## read file and import details\n",
    "gene_bank_file = 'BS168.gb'\n",
    " # making sure that the path is valid\n",
    "assert(os.path.exists(gene_bank_file))\n",
    "\n",
    "with open(gene_bank_file, \"r\") as input_handle:\n",
    "    record_gb = SeqIO.read(input_handle, \"genbank\")\n",
    "    \n",
    "features = record_gb.features\n",
    "print(type(features))\n",
    "\n",
    "print(features[2])"
   ]
  },
  {
   "cell_type": "code",
   "execution_count": 81,
   "metadata": {},
   "outputs": [
    {
     "name": "stdout",
     "output_type": "stream",
     "text": [
      "dnaA\n",
      "4177\n"
     ]
    }
   ],
   "source": [
    "# find all CDS in GeneBank file\n",
    "features_prot = []\n",
    "\n",
    "for feature in features:\n",
    "    if feature.type == 'CDS' and feature.qualifiers.get('gene') is not None:\n",
    "        features_prot.append(feature.qualifiers.get('gene')[0])\n",
    "\n",
    "print(features_prot[0])\n",
    "print(len(features_prot))"
   ]
  },
  {
   "cell_type": "code",
   "execution_count": 60,
   "metadata": {},
   "outputs": [
    {
     "name": "stdout",
     "output_type": "stream",
     "text": [
      "Same protiens in both files:  3714\n",
      "Protiens in GeneBank only:  457\n",
      "Protiens in UniProt only:  769\n"
     ]
    }
   ],
   "source": [
    "# compare lists and create 3 lists\n",
    "\n",
    "# same protien in both\n",
    "same_prot = set(features_prot).intersection(set(prot_names))\n",
    "# protien exist only in genebank file \n",
    "gb_only = set(features_prot).difference(set(prot_names))\n",
    "# protien exist only in Uniport file \n",
    "uni_only = set(prot_names).difference(set(features_prot))\n",
    "\n",
    "uni_only = pd.Series(list(uni_only))\n",
    "uni_same = list(same_prot)\n",
    "print('Same protiens in both files: ', len(same_prot))\n",
    "print('Protiens in GeneBank only: ', len(gb_only))\n",
    "print('Protiens in UniProt only: ', len(uni_only))  \n",
    "\n",
    "# print(list(same_prot)[0:5])"
   ]
  },
  {
   "cell_type": "markdown",
   "metadata": {},
   "source": [
    "check where is the difference come from"
   ]
  },
  {
   "cell_type": "code",
   "execution_count": 50,
   "metadata": {},
   "outputs": [
    {
     "name": "stdout",
     "output_type": "stream",
     "text": [
      "3720 457\n"
     ]
    }
   ],
   "source": [
    "# check protien in GB  \n",
    "gb_same = []\n",
    "gb_diff = []\n",
    "\n",
    "for feature in features:\n",
    "    if feature.type == 'CDS':\n",
    "        if feature.qualifiers.get('gene') is not None:\n",
    "            if feature.qualifiers.get('gene')[0] in list(same_prot):\n",
    "                gb_same.append(feature)\n",
    "            else:\n",
    "                gb_diff.append(feature)\n",
    "\n",
    "print(len(gb_same), len(gb_diff))"
   ]
  },
  {
   "cell_type": "markdown",
   "metadata": {},
   "source": [
    "try to get datafram from the original DF so the name is in the gene name list \"prot name\" above."
   ]
  },
  {
   "cell_type": "code",
   "execution_count": 83,
   "metadata": {},
   "outputs": [
    {
     "data": {
      "text/plain": [
       "Entry                     3390\n",
       "Entry name                3390\n",
       "Status                    3390\n",
       "Protein names             3390\n",
       "Gene names                3389\n",
       "Organism                  3390\n",
       "Length                    3390\n",
       "Transmembrane              832\n",
       "Sequence                  3390\n",
       "Gene names  (primary )     934\n",
       "dtype: int64"
      ]
     },
     "execution_count": 83,
     "metadata": {},
     "output_type": "execute_result"
    }
   ],
   "source": [
    "# Data frame of the differences, e.g. gene only in UniPort.\n",
    "df_diff = df_prot[~df_prot['Gene names  (primary )'].isin(uni_same)]\n",
    "\n",
    "df_diff.count()\n"
   ]
  }
 ],
 "metadata": {
  "interpreter": {
   "hash": "bbe9b39007236c3750cc6f2befddcbd5909f231df41ca6daddda0a72f0a98581"
  },
  "kernelspec": {
   "display_name": "Python 3.10.1 64-bit",
   "language": "python",
   "name": "python3"
  },
  "language_info": {
   "codemirror_mode": {
    "name": "ipython",
    "version": 3
   },
   "file_extension": ".py",
   "mimetype": "text/x-python",
   "name": "python",
   "nbconvert_exporter": "python",
   "pygments_lexer": "ipython3",
   "version": "3.9.7"
  },
  "orig_nbformat": 4
 },
 "nbformat": 4,
 "nbformat_minor": 2
}
