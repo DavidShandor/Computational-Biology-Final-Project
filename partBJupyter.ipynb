{
 "cells": [
  {
   "cell_type": "code",
   "execution_count": 2,
   "metadata": {},
   "outputs": [],
   "source": [
    "import os\n",
    "from Bio import SeqIO, Seq\n",
    "import pandas as pd"
   ]
  },
  {
   "cell_type": "code",
   "execution_count": 7,
   "metadata": {},
   "outputs": [
    {
     "name": "stderr",
     "output_type": "stream",
     "text": [
      "C:\\ProgramData\\Anaconda3\\lib\\site-packages\\openpyxl\\styles\\stylesheet.py:226: UserWarning: Workbook contains no default style, apply openpyxl's default\n",
      "  warn(\"Workbook contains no default style, apply openpyxl's default\")\n"
     ]
    }
   ],
   "source": [
    "# read the xlsx file and create DataFrame\n",
    "uni_file = 'uniprot-filtered-organism__Bacillus+subtilis+(strain+168)+[224308]%2--.xlsx'\n",
    "assert(os.path.exists(uni_file)) #  sanity check\n",
    "df = pd.read_excel(uni_file)"
   ]
  },
  {
   "cell_type": "code",
   "execution_count": 8,
   "metadata": {},
   "outputs": [
    {
     "ename": "KeyError",
     "evalue": "0",
     "output_type": "error",
     "traceback": [
      "\u001b[1;31m---------------------------------------------------------------------------\u001b[0m",
      "\u001b[1;31mKeyError\u001b[0m                                  Traceback (most recent call last)",
      "\u001b[1;32mC:\\ProgramData\\Anaconda3\\lib\\site-packages\\pandas\\core\\indexes\\base.py\u001b[0m in \u001b[0;36mget_loc\u001b[1;34m(self, key, method, tolerance)\u001b[0m\n\u001b[0;32m   3360\u001b[0m             \u001b[1;32mtry\u001b[0m\u001b[1;33m:\u001b[0m\u001b[1;33m\u001b[0m\u001b[1;33m\u001b[0m\u001b[0m\n\u001b[1;32m-> 3361\u001b[1;33m                 \u001b[1;32mreturn\u001b[0m \u001b[0mself\u001b[0m\u001b[1;33m.\u001b[0m\u001b[0m_engine\u001b[0m\u001b[1;33m.\u001b[0m\u001b[0mget_loc\u001b[0m\u001b[1;33m(\u001b[0m\u001b[0mcasted_key\u001b[0m\u001b[1;33m)\u001b[0m\u001b[1;33m\u001b[0m\u001b[1;33m\u001b[0m\u001b[0m\n\u001b[0m\u001b[0;32m   3362\u001b[0m             \u001b[1;32mexcept\u001b[0m \u001b[0mKeyError\u001b[0m \u001b[1;32mas\u001b[0m \u001b[0merr\u001b[0m\u001b[1;33m:\u001b[0m\u001b[1;33m\u001b[0m\u001b[1;33m\u001b[0m\u001b[0m\n",
      "\u001b[1;32mC:\\ProgramData\\Anaconda3\\lib\\site-packages\\pandas\\_libs\\index.pyx\u001b[0m in \u001b[0;36mpandas._libs.index.IndexEngine.get_loc\u001b[1;34m()\u001b[0m\n",
      "\u001b[1;32mC:\\ProgramData\\Anaconda3\\lib\\site-packages\\pandas\\_libs\\index.pyx\u001b[0m in \u001b[0;36mpandas._libs.index.IndexEngine.get_loc\u001b[1;34m()\u001b[0m\n",
      "\u001b[1;32mpandas\\_libs\\hashtable_class_helper.pxi\u001b[0m in \u001b[0;36mpandas._libs.hashtable.PyObjectHashTable.get_item\u001b[1;34m()\u001b[0m\n",
      "\u001b[1;32mpandas\\_libs\\hashtable_class_helper.pxi\u001b[0m in \u001b[0;36mpandas._libs.hashtable.PyObjectHashTable.get_item\u001b[1;34m()\u001b[0m\n",
      "\u001b[1;31mKeyError\u001b[0m: 0",
      "\nThe above exception was the direct cause of the following exception:\n",
      "\u001b[1;31mKeyError\u001b[0m                                  Traceback (most recent call last)",
      "\u001b[1;32m~\\AppData\\Local\\Temp/ipykernel_41116/677051550.py\u001b[0m in \u001b[0;36m<module>\u001b[1;34m\u001b[0m\n\u001b[0;32m      1\u001b[0m \u001b[1;31m# print the DF head\u001b[0m\u001b[1;33m\u001b[0m\u001b[1;33m\u001b[0m\u001b[0m\n\u001b[0;32m      2\u001b[0m \u001b[1;31m# df.head()\u001b[0m\u001b[1;33m\u001b[0m\u001b[1;33m\u001b[0m\u001b[0m\n\u001b[1;32m----> 3\u001b[1;33m \u001b[0mdf\u001b[0m\u001b[1;33m[\u001b[0m\u001b[1;36m0\u001b[0m\u001b[1;33m]\u001b[0m\u001b[1;33m\u001b[0m\u001b[1;33m\u001b[0m\u001b[0m\n\u001b[0m",
      "\u001b[1;32mC:\\ProgramData\\Anaconda3\\lib\\site-packages\\pandas\\core\\frame.py\u001b[0m in \u001b[0;36m__getitem__\u001b[1;34m(self, key)\u001b[0m\n\u001b[0;32m   3456\u001b[0m             \u001b[1;32mif\u001b[0m \u001b[0mself\u001b[0m\u001b[1;33m.\u001b[0m\u001b[0mcolumns\u001b[0m\u001b[1;33m.\u001b[0m\u001b[0mnlevels\u001b[0m \u001b[1;33m>\u001b[0m \u001b[1;36m1\u001b[0m\u001b[1;33m:\u001b[0m\u001b[1;33m\u001b[0m\u001b[1;33m\u001b[0m\u001b[0m\n\u001b[0;32m   3457\u001b[0m                 \u001b[1;32mreturn\u001b[0m \u001b[0mself\u001b[0m\u001b[1;33m.\u001b[0m\u001b[0m_getitem_multilevel\u001b[0m\u001b[1;33m(\u001b[0m\u001b[0mkey\u001b[0m\u001b[1;33m)\u001b[0m\u001b[1;33m\u001b[0m\u001b[1;33m\u001b[0m\u001b[0m\n\u001b[1;32m-> 3458\u001b[1;33m             \u001b[0mindexer\u001b[0m \u001b[1;33m=\u001b[0m \u001b[0mself\u001b[0m\u001b[1;33m.\u001b[0m\u001b[0mcolumns\u001b[0m\u001b[1;33m.\u001b[0m\u001b[0mget_loc\u001b[0m\u001b[1;33m(\u001b[0m\u001b[0mkey\u001b[0m\u001b[1;33m)\u001b[0m\u001b[1;33m\u001b[0m\u001b[1;33m\u001b[0m\u001b[0m\n\u001b[0m\u001b[0;32m   3459\u001b[0m             \u001b[1;32mif\u001b[0m \u001b[0mis_integer\u001b[0m\u001b[1;33m(\u001b[0m\u001b[0mindexer\u001b[0m\u001b[1;33m)\u001b[0m\u001b[1;33m:\u001b[0m\u001b[1;33m\u001b[0m\u001b[1;33m\u001b[0m\u001b[0m\n\u001b[0;32m   3460\u001b[0m                 \u001b[0mindexer\u001b[0m \u001b[1;33m=\u001b[0m \u001b[1;33m[\u001b[0m\u001b[0mindexer\u001b[0m\u001b[1;33m]\u001b[0m\u001b[1;33m\u001b[0m\u001b[1;33m\u001b[0m\u001b[0m\n",
      "\u001b[1;32mC:\\ProgramData\\Anaconda3\\lib\\site-packages\\pandas\\core\\indexes\\base.py\u001b[0m in \u001b[0;36mget_loc\u001b[1;34m(self, key, method, tolerance)\u001b[0m\n\u001b[0;32m   3361\u001b[0m                 \u001b[1;32mreturn\u001b[0m \u001b[0mself\u001b[0m\u001b[1;33m.\u001b[0m\u001b[0m_engine\u001b[0m\u001b[1;33m.\u001b[0m\u001b[0mget_loc\u001b[0m\u001b[1;33m(\u001b[0m\u001b[0mcasted_key\u001b[0m\u001b[1;33m)\u001b[0m\u001b[1;33m\u001b[0m\u001b[1;33m\u001b[0m\u001b[0m\n\u001b[0;32m   3362\u001b[0m             \u001b[1;32mexcept\u001b[0m \u001b[0mKeyError\u001b[0m \u001b[1;32mas\u001b[0m \u001b[0merr\u001b[0m\u001b[1;33m:\u001b[0m\u001b[1;33m\u001b[0m\u001b[1;33m\u001b[0m\u001b[0m\n\u001b[1;32m-> 3363\u001b[1;33m                 \u001b[1;32mraise\u001b[0m \u001b[0mKeyError\u001b[0m\u001b[1;33m(\u001b[0m\u001b[0mkey\u001b[0m\u001b[1;33m)\u001b[0m \u001b[1;32mfrom\u001b[0m \u001b[0merr\u001b[0m\u001b[1;33m\u001b[0m\u001b[1;33m\u001b[0m\u001b[0m\n\u001b[0m\u001b[0;32m   3364\u001b[0m \u001b[1;33m\u001b[0m\u001b[0m\n\u001b[0;32m   3365\u001b[0m         \u001b[1;32mif\u001b[0m \u001b[0mis_scalar\u001b[0m\u001b[1;33m(\u001b[0m\u001b[0mkey\u001b[0m\u001b[1;33m)\u001b[0m \u001b[1;32mand\u001b[0m \u001b[0misna\u001b[0m\u001b[1;33m(\u001b[0m\u001b[0mkey\u001b[0m\u001b[1;33m)\u001b[0m \u001b[1;32mand\u001b[0m \u001b[1;32mnot\u001b[0m \u001b[0mself\u001b[0m\u001b[1;33m.\u001b[0m\u001b[0mhasnans\u001b[0m\u001b[1;33m:\u001b[0m\u001b[1;33m\u001b[0m\u001b[1;33m\u001b[0m\u001b[0m\n",
      "\u001b[1;31mKeyError\u001b[0m: 0"
     ]
    }
   ],
   "source": [
    "# print the DF head\n",
    "# df.head()\n",
    "df[0]"
   ]
  },
  {
   "cell_type": "code",
   "execution_count": 4,
   "metadata": {},
   "outputs": [
    {
     "name": "stdout",
     "output_type": "stream",
     "text": [
      "Total genes in UniProtKB file:  8541\n",
      "Number of named genes:  6085\n",
      "Number of genes without name:  2456\n",
      "Number of unique genes name:  4483\n",
      "Number of Duplicates genes by name:  1602\n"
     ]
    },
    {
     "name": "stderr",
     "output_type": "stream",
     "text": [
      "C:\\ProgramData\\Anaconda3\\lib\\site-packages\\pandas\\core\\series.py:2136: SettingWithCopyWarning: \n",
      "A value is trying to be set on a copy of a slice from a DataFrame\n",
      "\n",
      "See the caveats in the documentation: https://pandas.pydata.org/pandas-docs/stable/user_guide/indexing.html#returning-a-view-versus-a-copy\n",
      "  self._update_inplace(result)\n"
     ]
    }
   ],
   "source": [
    "uni_null_count = df['Gene names  (primary )'].isna().sum()\n",
    "df_prot = df[df['Gene names  (primary )'].notna()]\n",
    "\n",
    "uni_prot = df_prot['Gene names  (primary )']\n",
    "\n",
    "count_unique = uni_prot.nunique()\n",
    "prot_names = list(uni_prot)\n",
    "uni_prot.drop_duplicates(inplace= True)\n",
    "\n",
    "\n",
    "print('Total genes in UniProtKB file: ',len(prot_names)+uni_null_count)\n",
    "print('Number of named genes: ',len(prot_names))\n",
    "print('Number of genes without name: ', uni_null_count)\n",
    "print('Number of unique genes name: ',count_unique)\n",
    "print('Number of Duplicates genes by name: ',len(prot_names)-count_unique)"
   ]
  },
  {
   "cell_type": "code",
   "execution_count": 10,
   "metadata": {},
   "outputs": [
    {
     "name": "stdout",
     "output_type": "stream",
     "text": [
      "type: source\n",
      "location: [0:4215606](+)\n",
      "qualifiers:\n",
      "    Key: db_xref, Value: ['taxon:224308']\n",
      "    Key: mol_type, Value: ['genomic DNA']\n",
      "    Key: organism, Value: ['Bacillus subtilis subsp. subtilis str. 168']\n",
      "    Key: strain, Value: ['168']\n",
      "    Key: sub_species, Value: ['subtilis']\n",
      "    Key: type_material, Value: ['type strain of Bacillus subtilis']\n",
      "\n",
      "9074\n"
     ]
    }
   ],
   "source": [
    "## read file and import details\n",
    "gene_bank_file = 'BS168.gb'\n",
    " # making sure that the path is valid\n",
    "assert(os.path.exists(gene_bank_file))\n",
    "\n",
    "with open(gene_bank_file, \"r\") as input_handle:\n",
    "    gen = SeqIO.parse(input_handle, \"genbank\")\n",
    "    record_gb = next(gen)\n",
    "\n",
    "features = record_gb.features\n",
    "print(features[0])\n",
    "# # print(\"\\n ####################################################\\n\")\n",
    "# # print(features[1])\n",
    "# # print(\"\\n ####################################################\\n\")\n",
    "# print(features[2])\n",
    "\n",
    "print(len(features))"
   ]
  },
  {
   "cell_type": "code",
   "execution_count": 6,
   "metadata": {},
   "outputs": [
    {
     "name": "stdout",
     "output_type": "stream",
     "text": [
      "Total Protien genes in GeneBank file:  4237\n",
      "Number of named protiens in GB:  4177\n",
      "Number of unnamed protiens in GB:  60\n"
     ]
    }
   ],
   "source": [
    "# find all CDS in GeneBank file\n",
    "features_prot = []\n",
    "gb_null_counter = 0\n",
    "\n",
    "for feature in features:\n",
    "    if feature.type == 'CDS':\n",
    "        if feature.qualifiers.get('gene') is not None:\n",
    "            features_prot.append(feature.qualifiers.get('gene')[0])\n",
    "        else:\n",
    "            gb_null_counter+=1\n",
    "\n",
    "total_gb_prot = gb_null_counter+len(features_prot)\n",
    "# print(features_prot[0])\n",
    "print('Total Protien genes in GeneBank file: ',total_gb_prot)\n",
    "print('Number of named protiens in GB: ',len(features_prot))\n",
    "print('Number of unnamed protiens in GB: ',gb_null_counter)"
   ]
  },
  {
   "cell_type": "code",
   "execution_count": 7,
   "metadata": {},
   "outputs": [
    {
     "name": "stdout",
     "output_type": "stream",
     "text": [
      "Same protiens in both files:  3714\n",
      "Protiens in GeneBank only:  457\n",
      "Protiens in UniProt only:  769\n",
      "Number of Duplicates in Same protiens list:  6\n"
     ]
    }
   ],
   "source": [
    "# compare lists and create 3 lists\n",
    "\n",
    "# same protien in both\n",
    "same_prot = set(features_prot).intersection(set(prot_names))\n",
    "# protien exist only in genebank file \n",
    "gb_only = set(features_prot).difference(set(prot_names))\n",
    "# protien exist only in Uniport file \n",
    "uni_only = set(prot_names).difference(set(features_prot))\n",
    "\n",
    "uni_only = pd.Series(list(uni_only))\n",
    "uni_same = list(same_prot)\n",
    "\n",
    "print('Same protiens in both files: ', len(same_prot))\n",
    "print('Protiens in GeneBank only: ', len(gb_only))\n",
    "print('Protiens in UniProt only: ', len(uni_only))  \n",
    "\n",
    "print('Number of Duplicates in Same protiens list: ',len(features_prot)-len(same_prot)-len(gb_only))"
   ]
  },
  {
   "cell_type": "markdown",
   "metadata": {},
   "source": [
    "check where is the difference come from"
   ]
  },
  {
   "cell_type": "code",
   "execution_count": 8,
   "metadata": {},
   "outputs": [],
   "source": [
    "# check protien in GB  \n",
    "gb_same = []\n",
    "gb_diff = []\n",
    "gb_count = 0\n",
    "for feature in features:\n",
    "    if feature.type == 'CDS':\n",
    "        if feature.qualifiers.get('gene') is not None:\n",
    "            gb_count += 1  \n",
    "            if feature.qualifiers.get('gene')[0] in list(same_prot):\n",
    "                gb_same.append(feature)\n",
    "            else:\n",
    "                gb_diff.append(feature)\n",
    "\n",
    "# print(len(gb_same), len(gb_diff))\n"
   ]
  },
  {
   "cell_type": "markdown",
   "metadata": {},
   "source": [
    "try to get datafram from the original DF so the name is in the gene name list \"prot name\" above."
   ]
  },
  {
   "cell_type": "code",
   "execution_count": 9,
   "metadata": {},
   "outputs": [
    {
     "data": {
      "text/plain": [
       "Entry                     769\n",
       "Entry name                769\n",
       "Status                    769\n",
       "Protein names             769\n",
       "Gene names                769\n",
       "Organism                  769\n",
       "Length                    769\n",
       "Transmembrane             189\n",
       "Sequence                  769\n",
       "Gene names  (primary )    769\n",
       "dtype: int64"
      ]
     },
     "execution_count": 9,
     "metadata": {},
     "output_type": "execute_result"
    }
   ],
   "source": [
    "# Data frame of the differences, e.g. gene only in UniPort.\n",
    "df_diff = df_prot[df_prot['Gene names  (primary )'].isin(list(uni_only))]\n",
    "\n",
    "# df_diff.count()\n",
    "df_diff = df_diff.drop_duplicates(subset = 'Gene names  (primary )')\n",
    "df_diff.count()\n"
   ]
  },
  {
   "cell_type": "code",
   "execution_count": 10,
   "metadata": {},
   "outputs": [
    {
     "data": {
      "image/png": "[encoded data removed]",
      "text/plain": [
       "<Figure size 1080x720 with 2 Axes>"
      ]
     },
     "metadata": {},
     "output_type": "display_data"
    },
    {
     "data": {
      "image/png": "[encoded data removed]",
      "text/plain": [
       "<Figure size 1080x720 with 2 Axes>"
      ]
     },
     "metadata": {},
     "output_type": "display_data"
    },
    {
     "data": {
      "image/png": "[encoded data removed]",
      "text/plain": [
       "<Figure size 432x288 with 1 Axes>"
      ]
     },
     "metadata": {
      "needs_background": "light"
     },
     "output_type": "display_data"
    }
   ],
   "source": [
    "# plot some data:\n",
    "import matplotlib.pyplot as plt\n",
    "from matplotlib.patches import ConnectionPatch\n",
    "import numpy as np\n",
    "\n",
    "def make_autopct(values):\n",
    "    def my_autopct(pct):\n",
    "        total = sum(values)\n",
    "        val = int(round(pct*total/100.0))\n",
    "        return '{p:.2f}%  ({v:d})'.format(p=pct,v=val)\n",
    "    return my_autopct\n",
    "\n",
    "def plot_gene_pie(_data, _labels,_titles,_exp,_angle,_width):\n",
    "\n",
    "        fig = plt.figure(figsize=(15,10))\n",
    "        ax1 = fig.add_subplot(121)\n",
    "        ax2 = fig.add_subplot(122)\n",
    "        fig.subplots_adjust(wspace=0)\n",
    "\n",
    "        # large pie chart parameters\n",
    "        ax1.pie(_data[0], autopct=make_autopct(_data[0]), startangle=_angle,\n",
    "                labels=_labels[0], explode=_exp, shadow=True)\n",
    "\n",
    "        # small pie chart parameters\n",
    "        ax2.pie(_data[1], autopct=make_autopct(_data[1]), startangle=_angle,textprops={'size': 'smaller'},\n",
    "                labels=_labels[1], radius=0.5, shadow=True, explode=_exp)\n",
    "\n",
    "        ax1.set_title(_titles[0])\n",
    "        ax2.set_title(_titles[1])\n",
    "\n",
    "        # use ConnectionPatch to draw lines between the two plots\n",
    "        # get the wedge data\n",
    "        theta1, theta2 = ax1.patches[0].theta1, ax1.patches[0].theta2\n",
    "        center, r = ax1.patches[0].center, ax1.patches[0].r\n",
    "\n",
    "        # draw top connecting line\n",
    "        x = r * np.cos(np.pi / 180 * theta2) + center[0]\n",
    "        y = np.sin(np.pi / 180 * theta2) + center[1]\n",
    "        con = ConnectionPatch(xyA=(- _width / 2, .5), xyB=(x, y),\n",
    "                        coordsA=\"data\", coordsB=\"data\", axesA=ax2, axesB=ax1)\n",
    "        con.set_color([0, 0, 0])\n",
    "        con.set_linewidth(2)\n",
    "        ax2.add_artist(con)\n",
    "\n",
    "        # draw bottom connecting line\n",
    "        x = r * np.cos(np.pi / 180 * theta1) + center[0]\n",
    "        y = np.sin(np.pi / 180 * theta1) + center[1]\n",
    "        con = ConnectionPatch(xyA=(- _width / 2, -.5), xyB=(x, y), coordsA=\"data\",\n",
    "                        coordsB=\"data\", axesA=ax2, axesB=ax1)\n",
    "        con.set_color([0, 0, 0])\n",
    "        ax2.add_artist(con)\n",
    "        con.set_linewidth(2)\n",
    "\n",
    "        plt.show()\n",
    "\n",
    "#show UniProtKB file data:\n",
    "uni_file_count = len(prot_names)\n",
    "total_uni_file = uni_file_count + uni_null_count\n",
    "uni_file_dup = uni_file_count-count_unique\n",
    "\n",
    "uni_chart = [[uni_file_count, uni_null_count],[count_unique, uni_file_dup]]\n",
    "labels = [['Named', 'Unnamed'],['Unique', 'Duplicates']]\n",
    "titles= ['Total Genes in UniPort','Named Genes']\n",
    "explode = [0.1, 0]\n",
    "angle = -180 * (uni_file_count/total_uni_file)\n",
    "width = .2\n",
    "\n",
    "plot_gene_pie(uni_chart, labels, titles, explode, angle, width)\n",
    "\n",
    "#show GeneBank file details\n",
    "\n",
    "total_named_prot_gb = len(features_prot)\n",
    "total_unprot_gb = len(features)- total_gb_prot\n",
    "total_gb = total_gb_prot + total_unprot_gb\n",
    "gb_chart = [[total_gb_prot, total_unprot_gb],[total_named_prot_gb, gb_null_counter]]\n",
    "labels = [['Protiens', 'Other Types'],['Named', 'Unnamed']]\n",
    "titles= ['Total Genes in GeneBank','Protiens Genes']\n",
    "explode = [0.1, 0]\n",
    "angle = -180 * (total_gb_prot/total_gb)\n",
    "width = .2\n",
    "\n",
    "plot_gene_pie(gb_chart, labels, titles, explode, angle, width)\n",
    "\n",
    "compare_chart = [len(same_prot), len(gb_only), len(uni_only)]\n",
    "_labels = ['Same Protiens', 'GB Unique Protiens', 'UniProtKB Unique Protiens']\n",
    "plt.bar(_labels, compare_chart, color= ['r','g','b'], width=0.5)\n",
    "plt.title('Files Comparison')\n",
    "plt.tight_layout()\n",
    "plt.show()\n"
   ]
  },
  {
   "cell_type": "markdown",
   "metadata": {},
   "source": [
    "question B"
   ]
  },
  {
   "cell_type": "code",
   "execution_count": 11,
   "metadata": {},
   "outputs": [],
   "source": [
    "table = {\n",
    "        'ATA':'I', 'ATC':'I', 'ATT':'I', 'ATG':'M',\n",
    "        'ACA':'T', 'ACC':'T', 'ACG':'T', 'ACT':'T',\n",
    "        'CTA':'L', 'CTC':'L', 'CTG':'L', 'CTT':'L',\n",
    "        'AAC':'N', 'AAT':'N', 'AAA':'K', 'AAG':'K',\n",
    "        'AGC':'S', 'AGT':'S', 'AGA':'R', 'AGG':'R',                \n",
    "        'CCA':'P', 'CCC':'P', 'CCG':'P', 'CCT':'P',\n",
    "        'CAC':'H', 'CAT':'H', 'CAA':'Q', 'CAG':'Q',\n",
    "        'GTA':'V', 'GTC':'V', 'GTG':'V', 'GTT':'V',\n",
    "        'CGA':'R', 'CGC':'R', 'CGG':'R', 'CGT':'R',\n",
    "        'GCA':'A', 'GCC':'A', 'GCG':'A', 'GCT':'A',\n",
    "        'GAC':'D', 'GAT':'D', 'GAA':'E', 'GAG':'E',\n",
    "        'GGA':'G', 'GGC':'G', 'GGG':'G', 'GGT':'G',\n",
    "        'TCA':'S', 'TCC':'S', 'TCG':'S', 'TCT':'S',\n",
    "        'TTC':'F', 'TTT':'F', 'TTA':'L', 'TTG':'L',\n",
    "        'TAC':'Y', 'TAT':'Y', 'TAA':'_', 'TAG':'_',\n",
    "        'TGC':'C', 'TGT':'C', 'TGA':'_', 'TGG':'W',\n",
    "    }\n",
    "\n",
    "Hidrophobic = ('A','F','L','I','M','P','W')   \n",
    "Hidrophilic = ('G','S','Y','Q','K','D','T','C','N','R','H','E')   \n"
   ]
  },
  {
   "cell_type": "code",
   "execution_count": 12,
   "metadata": {},
   "outputs": [
    {
     "name": "stderr",
     "output_type": "stream",
     "text": [
      "C:\\Users\\97250\\AppData\\Local\\Temp/ipykernel_30900/3623087022.py:30: SettingWithCopyWarning: \n",
      "A value is trying to be set on a copy of a slice from a DataFrame.\n",
      "Try using .loc[row_indexer,col_indexer] = value instead\n",
      "\n",
      "See the caveats in the documentation: https://pandas.pydata.org/pandas-docs/stable/user_guide/indexing.html#returning-a-view-versus-a-copy\n",
      "  trans_df['Transmembrane Sequences'] = trans_df.apply(lambda x: find_all_pos(x.Transmembrane,x.Sequence), axis=1)\n"
     ]
    }
   ],
   "source": [
    "import regex as re\n",
    "\n",
    "trans_len = []\n",
    "hidro_prec = []\n",
    "\n",
    "\n",
    "# count occuarnce of substrings from list in sequance\n",
    "def count_occ_in_seq(seq,occ):\n",
    "    c = sum(map(lambda x: x in occ, seq))\n",
    "    return c/len(seq)*100\n",
    "\n",
    "def count_hidro(seq):\n",
    "    hidro_prec.append(count_occ_in_seq(seq,Hidrophobic))\n",
    "    \n",
    "def find_all_pos(pos,seq):\n",
    "    r1 = re.findall(r'\\d*[0-9]\\.\\.\\d*[0-9]',pos) ## find all coords of the seq\n",
    "    res = []\n",
    "    for r in r1:\n",
    "        first, second = re.split(r'\\.\\.',r) ## split the coord and get the seq\n",
    "        # first +=0 if first == 0 else first -= 1 \n",
    "        trans_seq = seq[int(first):int(second)+1]\n",
    "        count_hidro(trans_seq)\n",
    "        res.append(trans_seq)\n",
    "        trans_len.append(len(trans_seq)) \n",
    "\n",
    "    return res\n",
    "\n",
    "\n",
    "trans_df = df[df['Transmembrane'].notna()]\n",
    "trans_df['Transmembrane Sequences'] = trans_df.apply(lambda x: find_all_pos(x.Transmembrane,x.Sequence), axis=1)\n",
    "\n",
    "# trans_df.head()\n",
    "# trans_s = trans_df['Transmembrane']\n",
    "# trans_s[0]\n",
    "# trans_df['Sequence']"
   ]
  },
  {
   "cell_type": "code",
   "execution_count": 13,
   "metadata": {},
   "outputs": [
    {
     "name": "stdout",
     "output_type": "stream",
     "text": [
      "['AAVFSITIPIISAILIINFFT', 'PVFFPLLLSPIGIILAFVSIK', 'VLNAIMFPFPFFWFIGGALLF']\n",
      "['TRANSMEM 6..26;  /note=\"Helical\";  /evidence=\"ECO:0000255\"; TRANSMEM 37..57;  /note=\"Helical\";  /evidence=\"ECO:0000255\"; TRANSMEM 68..88;  /note=\"Helical\";  /evidence=\"ECO:0000255\"']\n",
      "['MNVKKAAAVFSITIPIISAILIINFFTGFMSIPWQGMPVFFPLLLSPIGIILAFVSIKTNKRCAVYGIVLNAIMFPFPFFWFIGGALLFGV']\n",
      "10668\n"
     ]
    }
   ],
   "source": [
    "print(trans_df['Transmembrane Sequences'][0])\n",
    "print([trans_df['Transmembrane'][0]])\n",
    "print([trans_df['Sequence'][0]])\n",
    "print(len(trans_len))\n",
    "# print(len(trans_len))"
   ]
  },
  {
   "cell_type": "code",
   "execution_count": 23,
   "metadata": {},
   "outputs": [
    {
     "name": "stdout",
     "output_type": "stream",
     "text": [
      "11 44 21.391638545181852 57.99348052291291 71.42857142857143\n"
     ]
    },
    {
     "data": {
      "image/png": "[encoded data removed]",
      "text/plain": [
       "<Figure size 432x288 with 1 Axes>"
      ]
     },
     "metadata": {
      "needs_background": "light"
     },
     "output_type": "display_data"
    }
   ],
   "source": [
    "tran_min_len = min(trans_len)\n",
    "tran_max_len = max(trans_len)\n",
    "tran_avg_len = np.average(trans_len)\n",
    "hidro_avg_perc = np.average(hidro_prec)\n",
    "\n",
    "print(tran_min_len, tran_max_len, tran_avg_len,hidro_avg_perc, hidro_prec[0])\n",
    "plt.hist(np.array(trans_len),bins=range(10,40),)\n",
    "plt.xlabel('Transemembrane Sequence Lenght')\n",
    "plt.ylabel('Number of Sequences') \n",
    "plt.title('Transemembrane Sequence Lenght Distribution',\n",
    "          fontweight =\"bold\")\n",
    "plt.tight_layout()\n",
    "plt.show()\n"
   ]
  },
  {
   "cell_type": "code",
   "execution_count": 24,
   "metadata": {},
   "outputs": [
    {
     "data": {
      "image/png": "[encoded data removed]",
      "text/plain": [
       "<Figure size 432x288 with 1 Axes>"
      ]
     },
     "metadata": {
      "needs_background": "light"
     },
     "output_type": "display_data"
    }
   ],
   "source": [
    "plt.hist(hidro_prec, range(100))\n",
    "plt.xlabel('Hidrophobic(%)')\n",
    "plt.ylabel('Number of Sequences') \n",
    "plt.title('Transemembrane Sequence Hidrophobic Distribution',\n",
    "          fontweight =\"bold\")\n",
    "plt.tight_layout()\n",
    "plt.show()"
   ]
  },
  {
   "cell_type": "markdown",
   "metadata": {},
   "source": [
    "סביבתה הפנימית של הממבנה היא הידרופובית, והחלבונים הטרנס-ממברנליים עוברים דרכה ולכן הצפייה היא שהרצפים המרכיבים את החלבונים הללו יהיו הידרופוביים או בעלי אחוז גבוה של חומצות אמינו הידרופוביות. זה מתאים לתוצאה שרואים בהיסטוגרמה "
   ]
  },
  {
   "cell_type": "code",
   "execution_count": 16,
   "metadata": {},
   "outputs": [
    {
     "data": {
      "text/html": [
       "<div>\n",
       "<style scoped>\n",
       "    .dataframe tbody tr th:only-of-type {\n",
       "        vertical-align: middle;\n",
       "    }\n",
       "\n",
       "    .dataframe tbody tr th {\n",
       "        vertical-align: top;\n",
       "    }\n",
       "\n",
       "    .dataframe thead th {\n",
       "        text-align: right;\n",
       "    }\n",
       "</style>\n",
       "<table border=\"1\" class=\"dataframe\">\n",
       "  <thead>\n",
       "    <tr style=\"text-align: right;\">\n",
       "      <th></th>\n",
       "      <th>Entry</th>\n",
       "      <th>Entry name</th>\n",
       "      <th>Status</th>\n",
       "      <th>Protein names</th>\n",
       "      <th>Gene names</th>\n",
       "      <th>Organism</th>\n",
       "      <th>Length</th>\n",
       "      <th>Transmembrane</th>\n",
       "      <th>Sequence</th>\n",
       "      <th>Gene names  (primary )</th>\n",
       "      <th>Transmembrane Sequences</th>\n",
       "    </tr>\n",
       "  </thead>\n",
       "  <tbody>\n",
       "    <tr>\n",
       "      <th>0</th>\n",
       "      <td>P94485</td>\n",
       "      <td>YNAG_BACSU</td>\n",
       "      <td>reviewed</td>\n",
       "      <td>Uncharacterized protein YnaG</td>\n",
       "      <td>ynaG BSU17550</td>\n",
       "      <td>Bacillus subtilis (strain 168)</td>\n",
       "      <td>91.0</td>\n",
       "      <td>TRANSMEM 6..26;  /note=\"Helical\";  /evidence=\"...</td>\n",
       "      <td>MNVKKAAAVFSITIPIISAILIINFFTGFMSIPWQGMPVFFPLLLS...</td>\n",
       "      <td>ynaG</td>\n",
       "      <td>[AAVFSITIPIISAILIINFFT, PVFFPLLLSPIGIILAFVSIK,...</td>\n",
       "    </tr>\n",
       "    <tr>\n",
       "      <th>3</th>\n",
       "      <td>O34460</td>\n",
       "      <td>YTRI_BACSU</td>\n",
       "      <td>reviewed</td>\n",
       "      <td>Sporulation membrane protein YtrI</td>\n",
       "      <td>ytrI BSU29240</td>\n",
       "      <td>Bacillus subtilis (strain 168)</td>\n",
       "      <td>167.0</td>\n",
       "      <td>TRANSMEM 15..35;  /note=\"Helical\";  /evidence=...</td>\n",
       "      <td>MRVPQHYKKPGWQRFFAGMMCGAVISWFFFLFTYGTFQEEQVSLIE...</td>\n",
       "      <td>ytrI</td>\n",
       "      <td>[FAGMMCGAVISWFFFLFTYGT]</td>\n",
       "    </tr>\n",
       "    <tr>\n",
       "      <th>6</th>\n",
       "      <td>O32050</td>\n",
       "      <td>YRBG_BACSU</td>\n",
       "      <td>reviewed</td>\n",
       "      <td>UPF0702 transmembrane protein YrbG</td>\n",
       "      <td>yrbG BSU27680</td>\n",
       "      <td>Bacillus subtilis (strain 168)</td>\n",
       "      <td>218.0</td>\n",
       "      <td>TRANSMEM 4..24;  /note=\"Helical\";  /evidence=\"...</td>\n",
       "      <td>MEELLTIAFRTVVLYFVILVIFRFMGKREIGELSILDLVVFIMMAE...</td>\n",
       "      <td>yrbG</td>\n",
       "      <td>[LTIAFRTVVLYFVILVIFRFM, LSILDLVVFIMMAEIAVLAIE,...</td>\n",
       "    </tr>\n",
       "    <tr>\n",
       "      <th>11</th>\n",
       "      <td>O32111</td>\n",
       "      <td>YUZG_BACSU</td>\n",
       "      <td>reviewed</td>\n",
       "      <td>Uncharacterized protein YuzG</td>\n",
       "      <td>yuzG BSU32120</td>\n",
       "      <td>Bacillus subtilis (strain 168)</td>\n",
       "      <td>46.0</td>\n",
       "      <td>TRANSMEM 20..42;  /note=\"Helical\";  /evidence=...</td>\n",
       "      <td>MAQNEEKTPKSQKIQDRIIMAMIWVVAALVIALVVGTALNYINIFK</td>\n",
       "      <td>yuzG</td>\n",
       "      <td>[AMIWVVAALVIALVVGTALNYIN]</td>\n",
       "    </tr>\n",
       "    <tr>\n",
       "      <th>12</th>\n",
       "      <td>O31793</td>\n",
       "      <td>YMAG_BACSU</td>\n",
       "      <td>reviewed</td>\n",
       "      <td>Uncharacterized protein YmaG</td>\n",
       "      <td>ymaG BSU17310</td>\n",
       "      <td>Bacillus subtilis (strain 168)</td>\n",
       "      <td>91.0</td>\n",
       "      <td>TRANSMEM 50..70;  /note=\"Helical\";  /evidence=...</td>\n",
       "      <td>MNELEHFSPEDTRIFGRPFGFGRPFGFGRPFGFGYGFGRPGFGYGF...</td>\n",
       "      <td>ymaG</td>\n",
       "      <td>[GFFGGPFIGGLAGGLIGSALF]</td>\n",
       "    </tr>\n",
       "  </tbody>\n",
       "</table>\n",
       "</div>"
      ],
      "text/plain": [
       "     Entry  Entry name    Status                       Protein names  \\\n",
       "0   P94485  YNAG_BACSU  reviewed        Uncharacterized protein YnaG   \n",
       "3   O34460  YTRI_BACSU  reviewed   Sporulation membrane protein YtrI   \n",
       "6   O32050  YRBG_BACSU  reviewed  UPF0702 transmembrane protein YrbG   \n",
       "11  O32111  YUZG_BACSU  reviewed        Uncharacterized protein YuzG   \n",
       "12  O31793  YMAG_BACSU  reviewed        Uncharacterized protein YmaG   \n",
       "\n",
       "       Gene names                        Organism  Length  \\\n",
       "0   ynaG BSU17550  Bacillus subtilis (strain 168)    91.0   \n",
       "3   ytrI BSU29240  Bacillus subtilis (strain 168)   167.0   \n",
       "6   yrbG BSU27680  Bacillus subtilis (strain 168)   218.0   \n",
       "11  yuzG BSU32120  Bacillus subtilis (strain 168)    46.0   \n",
       "12  ymaG BSU17310  Bacillus subtilis (strain 168)    91.0   \n",
       "\n",
       "                                        Transmembrane  \\\n",
       "0   TRANSMEM 6..26;  /note=\"Helical\";  /evidence=\"...   \n",
       "3   TRANSMEM 15..35;  /note=\"Helical\";  /evidence=...   \n",
       "6   TRANSMEM 4..24;  /note=\"Helical\";  /evidence=\"...   \n",
       "11  TRANSMEM 20..42;  /note=\"Helical\";  /evidence=...   \n",
       "12  TRANSMEM 50..70;  /note=\"Helical\";  /evidence=...   \n",
       "\n",
       "                                             Sequence Gene names  (primary )  \\\n",
       "0   MNVKKAAAVFSITIPIISAILIINFFTGFMSIPWQGMPVFFPLLLS...                   ynaG   \n",
       "3   MRVPQHYKKPGWQRFFAGMMCGAVISWFFFLFTYGTFQEEQVSLIE...                   ytrI   \n",
       "6   MEELLTIAFRTVVLYFVILVIFRFMGKREIGELSILDLVVFIMMAE...                   yrbG   \n",
       "11     MAQNEEKTPKSQKIQDRIIMAMIWVVAALVIALVVGTALNYINIFK                   yuzG   \n",
       "12  MNELEHFSPEDTRIFGRPFGFGRPFGFGRPFGFGYGFGRPGFGYGF...                   ymaG   \n",
       "\n",
       "                              Transmembrane Sequences  \n",
       "0   [AAVFSITIPIISAILIINFFT, PVFFPLLLSPIGIILAFVSIK,...  \n",
       "3                             [FAGMMCGAVISWFFFLFTYGT]  \n",
       "6   [LTIAFRTVVLYFVILVIFRFM, LSILDLVVFIMMAEIAVLAIE,...  \n",
       "11                          [AMIWVVAALVIALVVGTALNYIN]  \n",
       "12                            [GFFGGPFIGGLAGGLIGSALF]  "
      ]
     },
     "execution_count": 16,
     "metadata": {},
     "output_type": "execute_result"
    }
   ],
   "source": [
    "df_B = trans_df[trans_df['Gene names  (primary )'].isin(list(same_prot))]\n",
    "df_B.head()"
   ]
  },
  {
   "cell_type": "code",
   "execution_count": 17,
   "metadata": {},
   "outputs": [
    {
     "data": {
      "text/plain": [
       "Index(['Entry', 'Entry name', 'Status', 'Protein names', 'Gene names',\n",
       "       'Organism', 'Length', 'Transmembrane', 'Sequence',\n",
       "       'Gene names  (primary )', 'Transmembrane Sequences'],\n",
       "      dtype='object')"
      ]
     },
     "execution_count": 17,
     "metadata": {},
     "output_type": "execute_result"
    }
   ],
   "source": [
    "df_B.keys()"
   ]
  },
  {
   "cell_type": "code",
   "execution_count": 18,
   "metadata": {},
   "outputs": [
    {
     "name": "stderr",
     "output_type": "stream",
     "text": [
      "C:\\Users\\97250\\AppData\\Local\\Temp/ipykernel_30900/2683943353.py:1: SettingWithCopyWarning: \n",
      "A value is trying to be set on a copy of a slice from a DataFrame.\n",
      "Try using .loc[row_indexer,col_indexer] = value instead\n",
      "\n",
      "See the caveats in the documentation: https://pandas.pydata.org/pandas-docs/stable/user_guide/indexing.html#returning-a-view-versus-a-copy\n",
      "  df_B['GC%'] = df_B.apply(lambda x: count_occ_in_seq(x['Sequence'], ['G','C']), axis=1)\n"
     ]
    }
   ],
   "source": [
    "df_B['GC%'] = df_B.apply(lambda x: count_occ_in_seq(x['Sequence'], ['G','C']), axis=1)"
   ]
  },
  {
   "cell_type": "code",
   "execution_count": 19,
   "metadata": {},
   "outputs": [
    {
     "data": {
      "text/html": [
       "<div>\n",
       "<style scoped>\n",
       "    .dataframe tbody tr th:only-of-type {\n",
       "        vertical-align: middle;\n",
       "    }\n",
       "\n",
       "    .dataframe tbody tr th {\n",
       "        vertical-align: top;\n",
       "    }\n",
       "\n",
       "    .dataframe thead th {\n",
       "        text-align: right;\n",
       "    }\n",
       "</style>\n",
       "<table border=\"1\" class=\"dataframe\">\n",
       "  <thead>\n",
       "    <tr style=\"text-align: right;\">\n",
       "      <th></th>\n",
       "      <th>Entry</th>\n",
       "      <th>Entry name</th>\n",
       "      <th>Status</th>\n",
       "      <th>Protein names</th>\n",
       "      <th>Gene names</th>\n",
       "      <th>Organism</th>\n",
       "      <th>Length</th>\n",
       "      <th>Transmembrane</th>\n",
       "      <th>Sequence</th>\n",
       "      <th>Gene names  (primary )</th>\n",
       "      <th>Transmembrane Sequences</th>\n",
       "      <th>GC%</th>\n",
       "    </tr>\n",
       "  </thead>\n",
       "  <tbody>\n",
       "    <tr>\n",
       "      <th>0</th>\n",
       "      <td>P94485</td>\n",
       "      <td>YNAG_BACSU</td>\n",
       "      <td>reviewed</td>\n",
       "      <td>Uncharacterized protein YnaG</td>\n",
       "      <td>ynaG BSU17550</td>\n",
       "      <td>Bacillus subtilis (strain 168)</td>\n",
       "      <td>91.0</td>\n",
       "      <td>TRANSMEM 6..26;  /note=\"Helical\";  /evidence=\"...</td>\n",
       "      <td>MNVKKAAAVFSITIPIISAILIINFFTGFMSIPWQGMPVFFPLLLS...</td>\n",
       "      <td>ynaG</td>\n",
       "      <td>[AAVFSITIPIISAILIINFFT, PVFFPLLLSPIGIILAFVSIK,...</td>\n",
       "      <td>8.791209</td>\n",
       "    </tr>\n",
       "    <tr>\n",
       "      <th>3</th>\n",
       "      <td>O34460</td>\n",
       "      <td>YTRI_BACSU</td>\n",
       "      <td>reviewed</td>\n",
       "      <td>Sporulation membrane protein YtrI</td>\n",
       "      <td>ytrI BSU29240</td>\n",
       "      <td>Bacillus subtilis (strain 168)</td>\n",
       "      <td>167.0</td>\n",
       "      <td>TRANSMEM 15..35;  /note=\"Helical\";  /evidence=...</td>\n",
       "      <td>MRVPQHYKKPGWQRFFAGMMCGAVISWFFFLFTYGTFQEEQVSLIE...</td>\n",
       "      <td>ytrI</td>\n",
       "      <td>[FAGMMCGAVISWFFFLFTYGT]</td>\n",
       "      <td>3.592814</td>\n",
       "    </tr>\n",
       "    <tr>\n",
       "      <th>6</th>\n",
       "      <td>O32050</td>\n",
       "      <td>YRBG_BACSU</td>\n",
       "      <td>reviewed</td>\n",
       "      <td>UPF0702 transmembrane protein YrbG</td>\n",
       "      <td>yrbG BSU27680</td>\n",
       "      <td>Bacillus subtilis (strain 168)</td>\n",
       "      <td>218.0</td>\n",
       "      <td>TRANSMEM 4..24;  /note=\"Helical\";  /evidence=\"...</td>\n",
       "      <td>MEELLTIAFRTVVLYFVILVIFRFMGKREIGELSILDLVVFIMMAE...</td>\n",
       "      <td>yrbG</td>\n",
       "      <td>[LTIAFRTVVLYFVILVIFRFM, LSILDLVVFIMMAEIAVLAIE,...</td>\n",
       "      <td>5.045872</td>\n",
       "    </tr>\n",
       "    <tr>\n",
       "      <th>11</th>\n",
       "      <td>O32111</td>\n",
       "      <td>YUZG_BACSU</td>\n",
       "      <td>reviewed</td>\n",
       "      <td>Uncharacterized protein YuzG</td>\n",
       "      <td>yuzG BSU32120</td>\n",
       "      <td>Bacillus subtilis (strain 168)</td>\n",
       "      <td>46.0</td>\n",
       "      <td>TRANSMEM 20..42;  /note=\"Helical\";  /evidence=...</td>\n",
       "      <td>MAQNEEKTPKSQKIQDRIIMAMIWVVAALVIALVVGTALNYINIFK</td>\n",
       "      <td>yuzG</td>\n",
       "      <td>[AMIWVVAALVIALVVGTALNYIN]</td>\n",
       "      <td>2.173913</td>\n",
       "    </tr>\n",
       "    <tr>\n",
       "      <th>12</th>\n",
       "      <td>O31793</td>\n",
       "      <td>YMAG_BACSU</td>\n",
       "      <td>reviewed</td>\n",
       "      <td>Uncharacterized protein YmaG</td>\n",
       "      <td>ymaG BSU17310</td>\n",
       "      <td>Bacillus subtilis (strain 168)</td>\n",
       "      <td>91.0</td>\n",
       "      <td>TRANSMEM 50..70;  /note=\"Helical\";  /evidence=...</td>\n",
       "      <td>MNELEHFSPEDTRIFGRPFGFGRPFGFGRPFGFGYGFGRPGFGYGF...</td>\n",
       "      <td>ymaG</td>\n",
       "      <td>[GFFGGPFIGGLAGGLIGSALF]</td>\n",
       "      <td>25.274725</td>\n",
       "    </tr>\n",
       "  </tbody>\n",
       "</table>\n",
       "</div>"
      ],
      "text/plain": [
       "     Entry  Entry name    Status                       Protein names  \\\n",
       "0   P94485  YNAG_BACSU  reviewed        Uncharacterized protein YnaG   \n",
       "3   O34460  YTRI_BACSU  reviewed   Sporulation membrane protein YtrI   \n",
       "6   O32050  YRBG_BACSU  reviewed  UPF0702 transmembrane protein YrbG   \n",
       "11  O32111  YUZG_BACSU  reviewed        Uncharacterized protein YuzG   \n",
       "12  O31793  YMAG_BACSU  reviewed        Uncharacterized protein YmaG   \n",
       "\n",
       "       Gene names                        Organism  Length  \\\n",
       "0   ynaG BSU17550  Bacillus subtilis (strain 168)    91.0   \n",
       "3   ytrI BSU29240  Bacillus subtilis (strain 168)   167.0   \n",
       "6   yrbG BSU27680  Bacillus subtilis (strain 168)   218.0   \n",
       "11  yuzG BSU32120  Bacillus subtilis (strain 168)    46.0   \n",
       "12  ymaG BSU17310  Bacillus subtilis (strain 168)    91.0   \n",
       "\n",
       "                                        Transmembrane  \\\n",
       "0   TRANSMEM 6..26;  /note=\"Helical\";  /evidence=\"...   \n",
       "3   TRANSMEM 15..35;  /note=\"Helical\";  /evidence=...   \n",
       "6   TRANSMEM 4..24;  /note=\"Helical\";  /evidence=\"...   \n",
       "11  TRANSMEM 20..42;  /note=\"Helical\";  /evidence=...   \n",
       "12  TRANSMEM 50..70;  /note=\"Helical\";  /evidence=...   \n",
       "\n",
       "                                             Sequence Gene names  (primary )  \\\n",
       "0   MNVKKAAAVFSITIPIISAILIINFFTGFMSIPWQGMPVFFPLLLS...                   ynaG   \n",
       "3   MRVPQHYKKPGWQRFFAGMMCGAVISWFFFLFTYGTFQEEQVSLIE...                   ytrI   \n",
       "6   MEELLTIAFRTVVLYFVILVIFRFMGKREIGELSILDLVVFIMMAE...                   yrbG   \n",
       "11     MAQNEEKTPKSQKIQDRIIMAMIWVVAALVIALVVGTALNYINIFK                   yuzG   \n",
       "12  MNELEHFSPEDTRIFGRPFGFGRPFGFGRPFGFGYGFGRPGFGYGF...                   ymaG   \n",
       "\n",
       "                              Transmembrane Sequences        GC%  \n",
       "0   [AAVFSITIPIISAILIINFFT, PVFFPLLLSPIGIILAFVSIK,...   8.791209  \n",
       "3                             [FAGMMCGAVISWFFFLFTYGT]   3.592814  \n",
       "6   [LTIAFRTVVLYFVILVIFRFM, LSILDLVVFIMMAEIAVLAIE,...   5.045872  \n",
       "11                          [AMIWVVAALVIALVVGTALNYIN]   2.173913  \n",
       "12                            [GFFGGPFIGGLAGGLIGSALF]  25.274725  "
      ]
     },
     "execution_count": 19,
     "metadata": {},
     "output_type": "execute_result"
    }
   ],
   "source": [
    "df_B.head()"
   ]
  },
  {
   "cell_type": "code",
   "execution_count": 20,
   "metadata": {},
   "outputs": [
    {
     "name": "stdout",
     "output_type": "stream",
     "text": [
      "42.30769230769231 0.0 8.011869436201781 8.161366675991502\n"
     ]
    }
   ],
   "source": [
    "B_GC = list(df_B['GC%'])\n",
    "\n",
    "B_max_GC, B_min_GC, B_mean_GC, B_avg_GC = max(B_GC), min(B_GC), np.median(B_GC), np.average(B_GC)\n",
    "\n",
    "print(B_max_GC, B_min_GC, B_mean_GC, B_avg_GC)"
   ]
  }
 ],
 "metadata": {
  "interpreter": {
   "hash": "bbe9b39007236c3750cc6f2befddcbd5909f231df41ca6daddda0a72f0a98581"
  },
  "kernelspec": {
   "display_name": "Python 3.10.1 64-bit",
   "language": "python",
   "name": "python3"
  },
  "language_info": {
   "codemirror_mode": {
    "name": "ipython",
    "version": 3
   },
   "file_extension": ".py",
   "mimetype": "text/x-python",
   "name": "python",
   "nbconvert_exporter": "python",
   "pygments_lexer": "ipython3",
   "version": "3.9.7"
  },
  "orig_nbformat": 4
 },
 "nbformat": 4,
 "nbformat_minor": 2
}
