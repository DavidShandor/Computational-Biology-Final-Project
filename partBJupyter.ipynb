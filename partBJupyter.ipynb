{
 "cells": [
  {
   "cell_type": "code",
   "execution_count": null,
   "metadata": {},
   "outputs": [],
   "source": [
    "import os\n",
    "from Bio import SeqIO, Seq\n",
    "import pandas as pd"
   ]
  },
  {
   "cell_type": "code",
   "execution_count": null,
   "metadata": {},
   "outputs": [],
   "source": [
    "# read the xlsx file and create DataFrame\n",
    "uni_file = 'uniprot-filtered-organism__Bacillus+subtilis+(strain+168)+[224308]%2--.xlsx'\n",
    "assert(os.path.exists(uni_file)) #  sanity check\n",
    "df = pd.read_excel(uni_file)"
   ]
  },
  {
   "cell_type": "code",
   "execution_count": null,
   "metadata": {},
   "outputs": [],
   "source": [
    "# print the DF head\n",
    "df.head()\n",
    "# df_prot['Transmembrane'][0]"
   ]
  },
  {
   "cell_type": "code",
   "execution_count": null,
   "metadata": {},
   "outputs": [],
   "source": [
    "uni_null_count = df['Gene names  (primary )'].isna().sum()\n",
    "df_prot = df[df['Gene names  (primary )'].notna()]\n",
    "\n",
    "uni_prot = df_prot['Gene names  (primary )']\n",
    "\n",
    "count_unique = uni_prot.nunique()\n",
    "prot_names = list(uni_prot)\n",
    "uni_prot.drop_duplicates(inplace= True)\n",
    "\n",
    "\n",
    "print('Total genes in UniProtKB file: ',len(prot_names)+uni_null_count)\n",
    "print('Number of named genes: ',len(prot_names))\n",
    "print('Number of genes without name: ', uni_null_count)\n",
    "print('Number of unique genes name: ',count_unique)\n",
    "print('Number of Duplicates genes by name: ',len(prot_names)-count_unique)"
   ]
  },
  {
   "cell_type": "code",
   "execution_count": null,
   "metadata": {},
   "outputs": [],
   "source": [
    "## read file and import details\n",
    "gene_bank_file = 'BS168.gb'\n",
    " # making sure that the path is valid\n",
    "assert(os.path.exists(gene_bank_file))\n",
    "\n",
    "with open(gene_bank_file, \"r\") as input_handle:\n",
    "    gen = SeqIO.parse(input_handle, \"genbank\")\n",
    "    record_gb = next(gen)\n",
    "\n",
    "features = record_gb.features\n",
    "print(type(features))\n",
    "\n",
    "print(len(features))"
   ]
  },
  {
   "cell_type": "code",
   "execution_count": null,
   "metadata": {},
   "outputs": [],
   "source": [
    "# find all CDS in GeneBank file\n",
    "features_prot = []\n",
    "gb_null_counter = 0\n",
    "\n",
    "for feature in features:\n",
    "    if feature.type == 'CDS':\n",
    "        if feature.qualifiers.get('gene') is not None:\n",
    "            features_prot.append(feature.qualifiers.get('gene')[0])\n",
    "        else:\n",
    "            gb_null_counter+=1\n",
    "\n",
    "total_gb_prot = gb_null_counter+len(features_prot)\n",
    "# print(features_prot[0])\n",
    "print('Total Protien genes in GeneBank file: ',total_gb_prot)\n",
    "print('Number of named protiens in GB: ',len(features_prot))\n",
    "print('Number of unnamed protiens in GB: ',gb_null_counter)"
   ]
  },
  {
   "cell_type": "code",
   "execution_count": null,
   "metadata": {},
   "outputs": [],
   "source": [
    "# compare lists and create 3 lists\n",
    "\n",
    "# same protien in both\n",
    "same_prot = set(features_prot).intersection(set(prot_names))\n",
    "# protien exist only in genebank file \n",
    "gb_only = set(features_prot).difference(set(prot_names))\n",
    "# protien exist only in Uniport file \n",
    "uni_only = set(prot_names).difference(set(features_prot))\n",
    "\n",
    "uni_only = pd.Series(list(uni_only))\n",
    "uni_same = list(same_prot)\n",
    "\n",
    "print('Same protiens in both files: ', len(same_prot))\n",
    "print('Protiens in GeneBank only: ', len(gb_only))\n",
    "print('Protiens in UniProt only: ', len(uni_only))  \n",
    "\n",
    "print('Number of Duplicates in Same protiens list: ',len(features_prot)-len(same_prot)-len(gb_only))"
   ]
  },
  {
   "cell_type": "markdown",
   "metadata": {},
   "source": [
    "check where is the difference come from"
   ]
  },
  {
   "cell_type": "code",
   "execution_count": null,
   "metadata": {},
   "outputs": [],
   "source": [
    "# check protien in GB  \n",
    "gb_same = []\n",
    "gb_diff = []\n",
    "gb_count = 0\n",
    "for feature in features:\n",
    "    if feature.type == 'CDS':\n",
    "        if feature.qualifiers.get('gene') is not None:\n",
    "            gb_count += 1  \n",
    "            if feature.qualifiers.get('gene')[0] in list(same_prot):\n",
    "                gb_same.append(feature)\n",
    "            else:\n",
    "                gb_diff.append(feature)\n",
    "\n",
    "# print(len(gb_same), len(gb_diff))\n"
   ]
  },
  {
   "cell_type": "markdown",
   "metadata": {},
   "source": [
    "try to get datafram from the original DF so the name is in the gene name list \"prot name\" above."
   ]
  },
  {
   "cell_type": "code",
   "execution_count": null,
   "metadata": {},
   "outputs": [],
   "source": [
    "# Data frame of the differences, e.g. gene only in UniPort.\n",
    "df_diff = df_prot[df_prot['Gene names  (primary )'].isin(list(uni_only))]\n",
    "\n",
    "# df_diff.count()\n",
    "df_diff = df_diff.drop_duplicates(subset = 'Gene names  (primary )')\n",
    "df_diff.count()\n"
   ]
  },
  {
   "cell_type": "code",
   "execution_count": null,
   "metadata": {},
   "outputs": [],
   "source": [
    "# plot some data:\n",
    "import matplotlib.pyplot as plt\n",
    "from matplotlib.patches import ConnectionPatch\n",
    "import numpy as np\n",
    "\n",
    "def make_autopct(values):\n",
    "    def my_autopct(pct):\n",
    "        total = sum(values)\n",
    "        val = int(round(pct*total/100.0))\n",
    "        return '{p:.2f}%  ({v:d})'.format(p=pct,v=val)\n",
    "    return my_autopct\n",
    "\n",
    "def plot_gene_pie(_data, _labels,_titles,_exp,_angle,_width):\n",
    "\n",
    "        fig = plt.figure(figsize=(15,10))\n",
    "        ax1 = fig.add_subplot(121)\n",
    "        ax2 = fig.add_subplot(122)\n",
    "        fig.subplots_adjust(wspace=0)\n",
    "\n",
    "        # large pie chart parameters\n",
    "        ax1.pie(_data[0], autopct=make_autopct(_data[0]), startangle=_angle,\n",
    "                labels=_labels[0], explode=_exp, shadow=True)\n",
    "\n",
    "        # small pie chart parameters\n",
    "        ax2.pie(_data[1], autopct=make_autopct(_data[1]), startangle=_angle,textprops={'size': 'smaller'},\n",
    "                labels=_labels[1], radius=0.5, shadow=True, explode=_exp)\n",
    "\n",
    "        ax1.set_title(_titles[0])\n",
    "        ax2.set_title(_titles[1])\n",
    "\n",
    "        # use ConnectionPatch to draw lines between the two plots\n",
    "        # get the wedge data\n",
    "        theta1, theta2 = ax1.patches[0].theta1, ax1.patches[0].theta2\n",
    "        center, r = ax1.patches[0].center, ax1.patches[0].r\n",
    "\n",
    "        # draw top connecting line\n",
    "        x = r * np.cos(np.pi / 180 * theta2) + center[0]\n",
    "        y = np.sin(np.pi / 180 * theta2) + center[1]\n",
    "        con = ConnectionPatch(xyA=(- _width / 2, .5), xyB=(x, y),\n",
    "                        coordsA=\"data\", coordsB=\"data\", axesA=ax2, axesB=ax1)\n",
    "        con.set_color([0, 0, 0])\n",
    "        con.set_linewidth(2)\n",
    "        ax2.add_artist(con)\n",
    "\n",
    "        # draw bottom connecting line\n",
    "        x = r * np.cos(np.pi / 180 * theta1) + center[0]\n",
    "        y = np.sin(np.pi / 180 * theta1) + center[1]\n",
    "        con = ConnectionPatch(xyA=(- _width / 2, -.5), xyB=(x, y), coordsA=\"data\",\n",
    "                        coordsB=\"data\", axesA=ax2, axesB=ax1)\n",
    "        con.set_color([0, 0, 0])\n",
    "        ax2.add_artist(con)\n",
    "        con.set_linewidth(2)\n",
    "\n",
    "        plt.show()\n",
    "\n",
    "#show UniProtKB file data:\n",
    "uni_file_count = len(prot_names)\n",
    "total_uni_file = uni_file_count + uni_null_count\n",
    "uni_file_dup = uni_file_count-count_unique\n",
    "\n",
    "uni_chart = [[uni_file_count, uni_null_count],[count_unique, uni_file_dup]]\n",
    "labels = [['Named', 'Unnamed'],['Unique', 'Duplicates']]\n",
    "titles= ['Total Genes in UniPort','Named Genes']\n",
    "explode = [0.1, 0]\n",
    "angle = -180 * (uni_file_count/total_uni_file)\n",
    "width = .2\n",
    "\n",
    "plot_gene_pie(uni_chart, labels, titles, explode, angle, width)\n",
    "\n",
    "#show GeneBank file details\n",
    "\n",
    "total_named_prot_gb = len(features_prot)\n",
    "total_unprot_gb = len(features)- total_gb_prot\n",
    "total_gb = total_gb_prot + total_unprot_gb\n",
    "gb_chart = [[total_gb_prot, total_unprot_gb],[total_named_prot_gb, gb_null_counter]]\n",
    "labels = [['Protiens', 'Other Types'],['Named', 'Unnamed']]\n",
    "titles= ['Total Genes in GeneBank','Protiens Genes']\n",
    "explode = [0.1, 0]\n",
    "angle = -180 * (total_gb_prot/total_gb)\n",
    "width = .2\n",
    "\n",
    "plot_gene_pie(gb_chart, labels, titles, explode, angle, width)\n",
    "\n",
    "compare_chart = [len(same_prot), len(gb_only), len(uni_only)]\n",
    "_labels = ['Same Protiens', 'GB Unique Protiens', 'UniProtKB Unique Protiens']\n",
    "plt.bar(_labels, compare_chart, color= ['r','g','b'], width=0.5)\n",
    "plt.title('Files Comparison')\n",
    "plt.tight_layout()\n",
    "plt.show()\n"
   ]
  },
  {
   "cell_type": "markdown",
   "metadata": {},
   "source": [
    "question B"
   ]
  },
  {
   "cell_type": "code",
   "execution_count": 155,
   "metadata": {},
   "outputs": [
    {
     "data": {
      "text/plain": [
       "'TRANSMEM 6..26;  /note=\"Helical\";  /evidence=\"ECO:0000255\"; TRANSMEM 37..57;  /note=\"Helical\";  /evidence=\"ECO:0000255\"; TRANSMEM 68..88;  /note=\"Helical\";  /evidence=\"ECO:0000255\"'"
      ]
     },
     "execution_count": 155,
     "metadata": {},
     "output_type": "execute_result"
    }
   ],
   "source": [
    "trans_df = df[df['Transmembrane'].notna()]\n",
    "# trans_df.head()\n",
    "trans_s = trans_df['Transmembrane']\n",
    "trans_s[0]\n",
    "# trans_df['Sequence']"
   ]
  },
  {
   "cell_type": "code",
   "execution_count": 153,
   "metadata": {},
   "outputs": [
    {
     "data": {
      "text/plain": [
       "1987"
      ]
     },
     "execution_count": 153,
     "metadata": {},
     "output_type": "execute_result"
    }
   ],
   "source": [
    "import regex as re\n",
    "transmem_list = list(trans_s)\n",
    "# # len(transmem_list)\n",
    "# trans_pos = []\n",
    "for trans in transmem_list:\n",
    "    r1 = "
   ]
  }
 ],
 "metadata": {
  "interpreter": {
   "hash": "bbe9b39007236c3750cc6f2befddcbd5909f231df41ca6daddda0a72f0a98581"
  },
  "kernelspec": {
   "display_name": "Python 3.10.1 64-bit",
   "language": "python",
   "name": "python3"
  },
  "language_info": {
   "codemirror_mode": {
    "name": "ipython",
    "version": 3
   },
   "file_extension": ".py",
   "mimetype": "text/x-python",
   "name": "python",
   "nbconvert_exporter": "python",
   "pygments_lexer": "ipython3",
   "version": "3.9.7"
  },
  "orig_nbformat": 4
 },
 "nbformat": 4,
 "nbformat_minor": 2
}
